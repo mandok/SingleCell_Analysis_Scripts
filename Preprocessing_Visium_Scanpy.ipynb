{
 "cells": [
  {
   "cell_type": "code",
   "execution_count": null,
   "id": "952c68cd-7652-4e5b-aab2-85a3dde88032",
   "metadata": {
    "editable": true,
    "slideshow": {
     "slide_type": ""
    },
    "tags": []
   },
   "outputs": [],
   "source": [
    "import scanpy as sc\n",
    "import pandas as pd\n",
    "import matplotlib.pyplot as plt\n",
    "import seaborn as sns\n",
    "import numpy as np\n",
    "import scipy as sci\n",
    "from scipy import stats\n",
    "from matplotlib.backends.backend_pdf import PdfPages"
   ]
  },
  {
   "cell_type": "code",
   "execution_count": null,
   "id": "45c8d0a0-3d06-49a3-a61c-5d266f0666a7",
   "metadata": {
    "editable": true,
    "slideshow": {
     "slide_type": ""
    },
    "tags": []
   },
   "outputs": [],
   "source": [
    "#https://www.sc-best-practices.org/preprocessing_visualization/quality_control.html\n",
    "\n",
    "def is_outlier(adata, metric: str, nmads: int):\n",
    "    M = adata.obs[metric]\n",
    "    outlier = (M < np.median(M) - nmads * median_abs_deviation(M)) | (\n",
    "        np.median(M) + nmads * median_abs_deviation(M) < M\n",
    "    )\n",
    "    return outlier"
   ]
  },
  {
   "cell_type": "code",
   "execution_count": null,
   "id": "a6fbfad5-291f-4ff8-a94a-a3bf82bd46d6",
   "metadata": {
    "scrolled": true
   },
   "outputs": [],
   "source": [
    "sc.logging.print_versions()\n",
    "sc.set_figure_params(facecolor=\"white\", figsize=(8, 8))\n",
    "sc.settings.verbosity = 3\n",
    "sc._settings.settings._vector_friendly=True"
   ]
  },
  {
   "cell_type": "markdown",
   "id": "41a7cae3-4963-4b5e-b0cc-88f6a4dc2035",
   "metadata": {},
   "source": [
    "## Reading the data\n",
    "\n"
   ]
  },
  {
   "cell_type": "markdown",
   "id": "73f2b3b3-11f9-4ef7-bbd4-fadd76806afa",
   "metadata": {},
   "source": [
    "#### Visium filtered files"
   ]
  },
  {
   "cell_type": "code",
   "execution_count": null,
   "id": "8fec5052-6297-41a5-bd59-3bc28a74bad4",
   "metadata": {},
   "outputs": [],
   "source": [
    "adata_control_1 = sc.read_visium(path=\"/PATH/Control_1/\",\n",
    "                       count_file=\"filtered_feature_bc_matrix.h5\")\n",
    "adata_control_2 = sc.read_visium(path=\"/PATH/Control_2/\",\n",
    "                       count_file=\"filtered_feature_bc_matrix.h5\")\n",
    "\n",
    "adata_Treatment_1 = sc.read_visium(path=\"/PATH/Treatment_1/\",\n",
    "                       count_file=\"filtered_feature_bc_matrix.h5\")\n",
    "adata_Treatment_2 = sc.read_visium(path=\"/PATH/Treatment_2/\",\n",
    "                       count_file=\"filtered_feature_bc_matrix.h5\")\n",
    "\n",
    "\n",
    "#Makes the index unique by appending a number string to each duplicate index element: ‘1’, ‘2’, etc.\n",
    "adata_control_1.var_names_make_unique()\n",
    "adata_control_2.var_names_make_unique()\n",
    "\n",
    "adata_Treatment_1.var_names_make_unique()\n",
    "adata_Treatment_2.var_names_make_unique()"
   ]
  },
  {
   "cell_type": "markdown",
   "id": "d7be14be-5b92-4698-bef0-52ecbde08090",
   "metadata": {},
   "source": [
    "#### Read manual annotation"
   ]
  },
  {
   "cell_type": "code",
   "execution_count": null,
   "id": "b96c412b-c67a-4fb9-9ae3-a573d2d80525",
   "metadata": {},
   "outputs": [],
   "source": [
    "annot_control_1 = pd.read_csv(\"Tumors_S1.csv\")\n",
    "annot_control_2 = pd.read_csv(\"Tumors_S2.csv\")\n",
    "annot_Treatment_1 = pd.read_csv(\"Tumors_S3.csv\")\n",
    "annot_Treatment_2 = pd.read_csv(\"Tumors_S4.csv\")\n",
    "#annot_control_1.rename(index={\"Barcode\":\"Barcode\",\"Tumor\": \"Tumors\"})\n",
    "#annot_control_2.rename(column={\"Barcode\":\"Barcode\",\"All tumors\": \"Tumors\"})"
   ]
  },
  {
   "cell_type": "code",
   "execution_count": null,
   "id": "afe3e933-15fa-418a-8e3b-0c6fa8498cec",
   "metadata": {},
   "outputs": [],
   "source": [
    "annot_control_1_nodules = annot_control_1.Barcode[annot_control_1.Tumor==\"Nodules\"].tolist()\n",
    "annot_control_2_nodules = annot_control_2.Barcode[annot_control_2['All tumors']==\"Nodules\"].tolist()\n",
    "annot_Treatment_1_nodules = annot_Treatment_1.Barcode[annot_Treatment_1.Tumors==\"Nodules\"].tolist()\n",
    "annot_Treatment_2_nodules = annot_Treatment_2.Barcode[annot_Treatment_2.Tumors==\"Nodules\"].tolist()\n"
   ]
  },
  {
   "cell_type": "code",
   "execution_count": null,
   "id": "864fe03e-a4d0-49be-976b-17d148b842d5",
   "metadata": {},
   "outputs": [],
   "source": [
    "#Add barcode column\n",
    "adata_control_1.obs[\"barcode\"] = adata_control_1.obs_names\n",
    "adata_control_2.obs[\"barcode\"] = adata_control_2.obs_names\n",
    "adata_Treatment_1.obs[\"barcode\"] = adata_Treatment_1.obs_names\n",
    "adata_Treatment_2.obs[\"barcode\"] = adata_Treatment_2.obs_names"
   ]
  },
  {
   "cell_type": "code",
   "execution_count": null,
   "id": "54aae34e-5783-49ad-928d-44145015bdc0",
   "metadata": {},
   "outputs": [],
   "source": [
    "#Filter only nodules\n",
    "adata_control_1 = adata_control_1[adata_control_1.obs['barcode'].isin(annot_control_1_nodules)]\n",
    "adata_control_2 = adata_control_2[adata_control_2.obs['barcode'].isin(annot_control_2_nodules)]\n",
    "\n",
    "adata_Treatment_1 = adata_Treatment_1[adata_Treatment_1.obs['barcode'].isin(annot_Treatment_1_nodules)]\n",
    "adata_Treatment_2 = adata_Treatment_2[adata_Treatment_2.obs['barcode'].isin(annot_Treatment_2_nodules)]"
   ]
  },
  {
   "cell_type": "markdown",
   "id": "21b446d8-1e19-48f6-aba5-5a420d1133c5",
   "metadata": {},
   "source": [
    "## QC and preprocessing"
   ]
  },
  {
   "cell_type": "markdown",
   "id": "699129ae-2d22-4f0d-8a2a-d2209fd14033",
   "metadata": {},
   "source": [
    "#### Calculate QC metrics"
   ]
  },
  {
   "cell_type": "code",
   "execution_count": null,
   "id": "c68f7edb-72d7-4dd5-8436-f86c0cb09e3e",
   "metadata": {},
   "outputs": [],
   "source": [
    "# mitochondrial genes\n",
    "adata_control_1.var[\"mt\"] = adata_control_1.var_names.str.startswith(\"mt-\")\n",
    "adata_control_2.var[\"mt\"] = adata_control_2.var_names.str.startswith(\"mt-\")\n",
    "\n",
    "adata_Treatment_1.var[\"mt\"] = adata_Treatment_1.var_names.str.startswith(\"mt-\")\n",
    "adata_Treatment_2.var[\"mt\"] = adata_Treatment_2.var_names.str.startswith(\"mt-\")\n",
    "# ribosomal genes\n",
    "#adata.var[\"ribo\"] = adata.var_names.str.startswith((\"Rps\", \"Rpl\"))\n",
    "# hemoglobin genes.\n",
    "#adata.var[\"hb\"] = adata.var_names.str.contains((\"^Hb[^(p)]\"))\n",
    "#sc.pp.calculate_qc_metrics(adata, qc_vars=[\"mt\"], inplace=True)\n",
    "sc.pp.calculate_qc_metrics(adata_control_1, qc_vars=[\"mt\"], inplace=True,  log1p=True)\n",
    "sc.pp.calculate_qc_metrics(adata_control_2, qc_vars=[\"mt\"], inplace=True,  log1p=True)\n",
    "\n",
    "sc.pp.calculate_qc_metrics(adata_Treatment_1, qc_vars=[\"mt\"], inplace=True,  log1p=True)\n",
    "sc.pp.calculate_qc_metrics(adata_Treatment_2, qc_vars=[\"mt\"], inplace=True,  log1p=True)\n"
   ]
  },
  {
   "cell_type": "code",
   "execution_count": null,
   "id": "61f79a07-d5d1-497b-a3f2-0b2b00833aea",
   "metadata": {},
   "outputs": [],
   "source": [
    "import matplotlib\n",
    "pdf = matplotlib.backends.backend_pdf.PdfPages(\"output_nodulesonly_preQC.pdf\")\n",
    "\n",
    "for name, adata in [\n",
    "    (\"control_1\", adata_control_1),\n",
    "    (\"control_2\", adata_control_2),\n",
    "    (\"Treatment_1\", adata_Treatment_1),\n",
    "    (\"Treatment_2\", adata_Treatment_2),\n",
    "]:\n",
    "    fig, axs = plt.subplots(1, 5, figsize=(12, 3))\n",
    "    fig.suptitle(f\"Covariates for filtering: {name}\")\n",
    "\n",
    "    sns.histplot(adata.obs[\"total_counts\"], kde=False, ax=axs[0],color='#BBBCFF').grid(False)\n",
    "    axs[0].set_xlim(0,85000)\n",
    "    sns.histplot(adata.obs[\"total_counts\"][adata.obs[\"total_counts\"] < 20000],kde=False,bins=40,ax=axs[1],color='#BBBCFF').grid(False)\n",
    "    sns.histplot(adata.obs[\"n_genes_by_counts\"], kde=False, bins=60, ax=axs[2],color='#BBBCFF').grid(False)\n",
    "    axs[2].set_xlim(0,10000)\n",
    "    sns.histplot(adata.obs[\"n_genes_by_counts\"][adata.obs[\"n_genes_by_counts\"] < 4000],kde=False,bins=60,ax=axs[3],color='#BBBCFF').grid(False)\n",
    "    sns.violinplot(adata.obs[\"pct_counts_mt\"],ax=axs[4],color='#BBBCFF').grid(False)\n",
    "    axs[4].set_ylim(0,15)\n",
    "    pdf.savefig(fig) # save on the fly\n",
    "    plt.close() # close figure once saved\n",
    "\n",
    "pdf.close()\n",
    "\n"
   ]
  },
  {
   "cell_type": "markdown",
   "id": "35b7d526-fec7-4267-946b-ae34eba4098e",
   "metadata": {},
   "source": [
    "#### Filter genes"
   ]
  },
  {
   "cell_type": "markdown",
   "id": "661ef96a-f791-4756-a625-60e384e2486e",
   "metadata": {},
   "source": [
    "From https://www.sc-best-practices.org/preprocessing_visualization/quality_control.html\n",
    "n_genes_by_counts in .obs is the number of genes with positive counts in a cell,\n",
    "total_counts is the total number of counts for a cell, this might also be known as library size, and\n",
    "pct_counts_mt is the proportion of total counts for a cell which are mitochondrial."
   ]
  },
  {
   "cell_type": "markdown",
   "id": "cc04d9c1-bf15-4c97-aa13-16296af22308",
   "metadata": {},
   "source": [
    " The **MAD** is given by  with  being the respective QC metric of an observation and describes a robust statistic of the variability of the metric. Similar to [Germain et al., 2020], we mark cells as outliers if they differ by 5 MADs which is a relatively permissive filtering strategy. We want to highlight that it might be reasonable to re-assess the filtering after annotation of cells."
   ]
  },
  {
   "cell_type": "code",
   "execution_count": null,
   "id": "6a8a374c-ee21-4d97-93ee-0a7dd561815f",
   "metadata": {},
   "outputs": [],
   "source": [
    "#First, we define a function that takes a metric, i.e. a column in .obs and the number of MADs (nmad) that is still permissive within the filtering strategy.\n",
    "def is_outlier(adata, metric: str, nmads: int):\n",
    "    M = adata.obs[metric]\n",
    "    outlier = (M < np.median(M) - nmads * stats.median_abs_deviation(M)) | (\n",
    "        np.median(M) + nmads * stats.median_abs_deviation(M) < M\n",
    "    )\n",
    "    return outlier"
   ]
  },
  {
   "cell_type": "markdown",
   "id": "5a40128b-1e85-4984-830b-b156628026ed",
   "metadata": {},
   "source": [
    "For an **AnnData object**: Each row corresponds to a cell with a barcode, and each column corresponds to a gene with a gene id. Furthermore, for each cell and each gene we might have additional metadata, like (1) donor information for each cell, or (2) alternative gene symbols for each gene."
   ]
  },
  {
   "cell_type": "code",
   "execution_count": null,
   "id": "e2324da9-4e96-4e73-9469-224b6323a9b7",
   "metadata": {},
   "outputs": [],
   "source": [
    "adata_control_1 #2248 spots with 32285 genes #Nodules 1958\n",
    "adata_control_2 #3105 spots with 32285 genes #Nodules 2752\n",
    "adata_Treatment_1 #2490 spots with 32285 genes #Nodules 1849\n",
    "adata_Treatment_2 #2076 spots with 32285 genes #Nodules 731"
   ]
  },
  {
   "cell_type": "code",
   "execution_count": null,
   "id": "92e74a72-28d5-4b49-8ddd-5a2184b4b402",
   "metadata": {},
   "outputs": [],
   "source": [
    "#Instead of choosing the thresholds manually, use the MADs and subset using the indexes (bool)\n",
    "#sc.pp.filter_cells(adata, min_counts=5000)\n",
    "#sc.pp.filter_cells(adata, max_counts=50000)\n",
    "#adata = adata[adata.obs[\"pct_counts_mt\"] < 20].copy()\n",
    "#print(f\"#cells after MT filter: {adata.n_obs}\")\n",
    "#sc.pp.filter_genes(adata, min_cells=20)"
   ]
  },
  {
   "cell_type": "markdown",
   "id": "8edf367b-9c2a-418d-8daa-e9a12814a38c",
   "metadata": {},
   "source": [
    "#### Which genes to exclude: Xue et al "
   ]
  },
  {
   "cell_type": "code",
   "execution_count": null,
   "id": "26630a35-afeb-47b7-a07a-e8bda0460945",
   "metadata": {},
   "outputs": [],
   "source": [
    "Genesexclude_Xue = pd.read_excel('Xueanalysis_SupTable.xlsx',sheet_name=4, skiprows=2)\n",
    "Genesexclude_Xue"
   ]
  },
  {
   "cell_type": "code",
   "execution_count": null,
   "id": "c9f60f4a-2949-49d2-8065-b4052bb81bfe",
   "metadata": {},
   "outputs": [],
   "source": [
    "# Filter  genes that are detected in less than 10 cells\n",
    "for adata in [\n",
    "    adata_control_1,\n",
    "    adata_control_2,\n",
    "    adata_Treatment_1,\n",
    "    adata_Treatment_2\n",
    "]:\n",
    "  #filtered out X genes that are detected in less than 10 cells\n",
    "    sc.pp.filter_genes(adata, min_cells=10,inplace=True)\n",
    "#filtered out x cells that have less than 200 genes expressed\n",
    "    sc.pp.filter_cells(adata, min_genes=200,inplace=True)\n",
    "    \n"
   ]
  },
  {
   "cell_type": "code",
   "execution_count": null,
   "id": "ce957c25-4af6-4439-be64-1f07108db716",
   "metadata": {},
   "outputs": [],
   "source": [
    "#Per samples, not in loop remove low quality spots\n",
    "\n",
    "#--------adata_control_1-----------\n",
    "#We now apply this function to the log1p_total_counts, log1p_n_genes_by_counts and pct_counts_in_top_20_genes QC covariates each with a threshold of 5 MADs.\n",
    "print(\"control_1\")\n",
    "adata_control_1.obs[\"outlier\"] = (\n",
    "    is_outlier(adata_control_1, \"log1p_total_counts\", 5)# library size\n",
    "    | is_outlier(adata_control_1, \"log1p_n_genes_by_counts\", 5))# number of genes per spot\n",
    "    #| is_outlier(adata_control_1, \"pct_counts_in_top_20_genes\", 5) #only spots with 20% of top genes with counts)\n",
    "print(f\"Number of cells after filtering of low quality cells:{adata_control_1.obs.outlier.value_counts()}\")\n",
    "\n",
    "#pct_counts_Mt is filtered with 5 MADs. Additionally, cells with a percentage of mitochondrial counts exceeding 8 % are filtered out.\n",
    "adata_control_1.obs[\"mt_outlier\"] = is_outlier(adata_control_1, \"pct_counts_mt\", 5) | (adata_control_1.obs[\"pct_counts_mt\"] > 8)\n",
    "print(f\"Number of cells after filtering of low quality cells:{adata_control_1.obs.mt_outlier.value_counts()}\")\n",
    "    \n",
    "#Filter according to indexes that passed the MADs thresholds\n",
    "adata_control_1 = adata_control_1[(~adata_control_1.obs.outlier) & (~adata_control_1.obs.mt_outlier)].copy()\n",
    "print(f\"Number of cells after filtering of low quality cells: {adata_control_1.n_obs}\")\n",
    "\n",
    "#--------adata_control_2 -----------\n",
    "\n",
    "#We now apply this function to the log1p_total_counts, log1p_n_genes_by_counts and pct_counts_in_top_20_genes QC covariates each with a threshold of 5 MADs.\n",
    "print(\"control_2\")\n",
    "adata_control_2.obs[\"outlier\"] = (\n",
    "    is_outlier(adata_control_2, \"log1p_total_counts\", 5)# library size\n",
    "    | is_outlier(adata_control_2, \"log1p_n_genes_by_counts\", 5))# number of genes per spot\n",
    "    #| is_outlier(adata_control_1, \"pct_counts_in_top_20_genes\", 5) #only spots with 20% of top genes with counts)\n",
    "print(f\"Number of cells after filtering of low quality cells:{adata_control_2.obs.outlier.value_counts()}\")\n",
    "\n",
    "#pct_counts_Mt is filtered with 5 MADs. Additionally, cells with a percentage of mitochondrial counts exceeding 8 % are filtered out.\n",
    "adata_control_2.obs[\"mt_outlier\"] = is_outlier(adata_control_2, \"pct_counts_mt\", 5) | (adata_control_2.obs[\"pct_counts_mt\"] > 8)\n",
    "print(f\"Number of cells after filtering of low quality cells:{adata_control_2.obs.mt_outlier.value_counts()}\")\n",
    "    \n",
    "#Filter according to indexes that passed the MADs thresholds\n",
    "adata_control_2 = adata_control_2[(~adata_control_2.obs.outlier) & (~adata_control_2.obs.mt_outlier)].copy()\n",
    "print(f\"Number of cells after filtering of low quality cells: {adata_control_2.n_obs}\")\n",
    "\n",
    "#--------adata_Treatment_1 -----------\n",
    "\n",
    "#We now apply this function to the log1p_total_counts, log1p_n_genes_by_counts and pct_counts_in_top_20_genes QC covariates each with a threshold of 5 MADs.\n",
    "print(\"Treatment_1\")\n",
    "adata_Treatment_1.obs[\"outlier\"] = (\n",
    "    is_outlier(adata_Treatment_1, \"log1p_total_counts\", 5)# library size\n",
    "    | is_outlier(adata_Treatment_1, \"log1p_n_genes_by_counts\", 5))# number of genes per spot\n",
    "    #| is_outlier(adata_control_1, \"pct_counts_in_top_20_genes\", 5) #only spots with 20% of top genes with counts)\n",
    "print(f\"Number of cells after filtering of low quality cells:{adata_Treatment_1.obs.outlier.value_counts()}\")\n",
    "\n",
    "#pct_counts_Mt is filtered with 5 MADs. Additionally, cells with a percentage of mitochondrial counts exceeding 8 % are filtered out.\n",
    "adata_Treatment_1.obs[\"mt_outlier\"] = is_outlier(adata_Treatment_1, \"pct_counts_mt\", 5) | (adata_Treatment_1.obs[\"pct_counts_mt\"] > 8)\n",
    "print(f\"Number of cells after filtering of low quality cells:{adata_Treatment_1.obs.mt_outlier.value_counts()}\")\n",
    "    \n",
    "#Filter according to indexes that passed the MADs thresholds\n",
    "adata_Treatment_1 = adata_Treatment_1[(~adata_Treatment_1.obs.outlier) & (~adata_Treatment_1.obs.mt_outlier)].copy()\n",
    "print(f\"Number of cells after filtering of low quality cells: {adata_Treatment_1.n_obs}\")\n",
    "\n",
    "#--------adata_Treatment_2 -----------\n",
    "\n",
    "#We now apply this function to the log1p_total_counts, log1p_n_genes_by_counts and pct_counts_in_top_20_genes QC covariates each with a threshold of 5 MADs.\n",
    "print(\"Treatment_2\")\n",
    "adata_Treatment_2.obs[\"outlier\"] = (\n",
    "    is_outlier(adata_Treatment_2, \"log1p_total_counts\", 5)# library size\n",
    "    | is_outlier(adata_Treatment_2, \"log1p_n_genes_by_counts\", 5))# number of genes per spot\n",
    "    #| is_outlier(adata_control_1, \"pct_counts_in_top_20_genes\", 5) #only spots with 20% of top genes with counts)\n",
    "print(f\"Number of cells after filtering of low quality cells:{adata_Treatment_2.obs.outlier.value_counts()}\")\n",
    "\n",
    "#pct_counts_Mt is filtered with 5 MADs. Additionally, cells with a percentage of mitochondrial counts exceeding 8 % are filtered out.\n",
    "adata_Treatment_2.obs[\"mt_outlier\"] = is_outlier(adata_Treatment_2, \"pct_counts_mt\", 5) | (adata_Treatment_2.obs[\"pct_counts_mt\"] > 8)\n",
    "print(f\"Number of cells after filtering of low quality cells:{adata_Treatment_2.obs.mt_outlier.value_counts()}\")\n",
    "    \n",
    "#Filter according to indexes that passed the MADs thresholds\n",
    "adata_Treatment_2 = adata_Treatment_2[(~adata_Treatment_2.obs.outlier) & (~adata_Treatment_2.obs.mt_outlier)].copy()\n",
    "print(f\"Number of cells after filtering of low quality cells: {adata_Treatment_2.n_obs}\")\n"
   ]
  },
  {
   "cell_type": "code",
   "execution_count": null,
   "id": "bcec3fce-5445-46b9-b449-f69fba71a0d1",
   "metadata": {},
   "outputs": [],
   "source": [
    "adata_control_1 #2087 spots with 14914 genes\n",
    "adata_control_2 #2684 spots with 14958 genes\n",
    "adata_Treatment_1 #2251 spots with 15389 genes\n",
    "adata_Treatment_2 #2029 spots with 14707 genes"
   ]
  },
  {
   "cell_type": "markdown",
   "id": "62047180-00cc-45ae-bc96-fddc67ea36db",
   "metadata": {},
   "source": [
    "#### Post-QC"
   ]
  },
  {
   "cell_type": "code",
   "execution_count": null,
   "id": "beecfe2f-6608-4f97-be26-71c4192e6398",
   "metadata": {},
   "outputs": [],
   "source": [
    "pdf = matplotlib.backends.backend_pdf.PdfPages(\"output_nodulesonly_postQC.pdf\")\n",
    "\n",
    "for name, adata in [\n",
    "    (\"control_1\", adata_control_1),\n",
    "    (\"control_2\", adata_control_2),\n",
    "    (\"Treatment_1\", adata_Treatment_1),\n",
    "    (\"Treatment_2\", adata_Treatment_2),\n",
    "]:\n",
    "    fig, axs = plt.subplots(1, 3, figsize=(12, 3))\n",
    "    fig.suptitle(f\"Covariates for filtering: {name}\")\n",
    "\n",
    "    sns.histplot(adata.obs[\"total_counts\"], kde=False, ax=axs[0],color='#BBBCFF').grid(False)\n",
    "    axs[0].set_xlim(0,85000)\n",
    "    sns.histplot(adata.obs[\"n_genes_by_counts\"], kde=False, bins=60, ax=axs[1],color='#BBBCFF').grid(False)\n",
    "    axs[1].set_xlim(0,10000)\n",
    "    sns.violinplot(adata.obs[\"pct_counts_mt\"],ax=axs[2],color='#BBBCFF')\n",
    "    axs[2].set_ylim(0,10)\n",
    "    pdf.savefig(fig) # save on the fly\n",
    "plt.close() # close figure once saved\n",
    "\n",
    "pdf.close()\n"
   ]
  },
  {
   "cell_type": "markdown",
   "id": "cd808cd4-b6fa-4359-8298-719bc56d5778",
   "metadata": {},
   "source": [
    "## Normalization"
   ]
  },
  {
   "attachments": {},
   "cell_type": "markdown",
   "id": "d409e71d-06e7-45e6-a3f4-0e3cd35e0cdf",
   "metadata": {},
   "source": [
    "The shifted logarithm works beneficial for stabilizing variance for subsequent dimensionality reduction and identification of differentially expressed genes. Scran was extensively tested and used for batch correction tasks and analytic Pearson residuals are well suited for selecting biologically variable genes and identification of rare cell types."
   ]
  },
  {
   "cell_type": "code",
   "execution_count": null,
   "id": "cbec0af1-35a4-4569-995a-c20b127bb70b",
   "metadata": {},
   "outputs": [],
   "source": [
    "#NOT WORKING\n",
    "import anndata2ri\n",
    "from rpy2.robjects.packages import importr\n",
    "from rpy2.robjects import r, pandas2ri\n",
    "import numpy as np\n",
    "\n",
    "anndata2ri.activate()\n",
    "pandas2ri.activate()\n",
    "\n",
    "def run_sctransform(adata, layer=None, **kwargs):\n",
    "    if layer:\n",
    "        mat = adata.layers[layer]\n",
    "    else:\n",
    "        mat = adata.X\n",
    "\n",
    "    # Set names for the input matrix\n",
    "    cell_names = adata.obs_names\n",
    "    gene_names = adata.var_names\n",
    "    r.assign('mat', mat.T)\n",
    "    r.assign('cell_names', cell_names)\n",
    "    r.assign('gene_names', gene_names)\n",
    "    r('colnames(mat) <- cell_names')\n",
    "    r('rownames(mat) <- gene_names')\n",
    "\n",
    "    seurat = importr('Seurat')\n",
    "    r('seurat_obj <- CreateSeuratObject(mat)')\n",
    "\n",
    "    # Run\n",
    "    for k, v in kwargs.items():\n",
    "        r.assign(k, v)\n",
    "    kwargs_str = ', '.join([f'{k}={k}' for k in kwargs.keys()])\n",
    "    r(f'seurat_obj <- SCTransform(seurat_obj,vst.flavor=\"v2\", {kwargs_str})')\n",
    "\n",
    "    # Extract the SCT data and add it as a new layer in the original anndata object\n",
    "    sct_data = np.asarray(r['as.matrix'](r('seurat_obj@assays$SCT@data')))\n",
    "    adata.layers['SCT_data'] = sct_data.T\n",
    "    sct_data = np.asarray(r['as.matrix'](r('seurat_obj@assays$SCT@counts')))\n",
    "    adata.layers['SCT_counts'] = sct_data.T\n",
    "    return adata"
   ]
  },
  {
   "cell_type": "markdown",
   "id": "d00bce54-0c60-4c1f-8d92-e1bbcdae92bb",
   "metadata": {},
   "source": [
    "#### Use Pearson residuals for selection of highly variable genes\n",
    "\n"
   ]
  },
  {
   "cell_type": "code",
   "execution_count": null,
   "id": "2aa66aa6-329c-49f2-b1a9-6250c694b4fc",
   "metadata": {},
   "outputs": [],
   "source": [
    "for adata in [\n",
    "    adata_control_1,\n",
    "    adata_control_2,\n",
    "    adata_Treatment_1,\n",
    "    adata_Treatment_2\n",
    "]:\n",
    "    sc.experimental.pp.highly_variable_genes(\n",
    "        adata, flavor=\"pearson_residuals\", n_top_genes=2000\n",
    "    )"
   ]
  },
  {
   "cell_type": "code",
   "execution_count": null,
   "id": "523d34b3-80f8-4e9a-a909-dbf80a09a484",
   "metadata": {},
   "outputs": [],
   "source": [
    "fig, axes = plt.subplots(1, 2, figsize=(12, 6))\n",
    "for ax, adata in zip(axes, [adata_control_1,\n",
    "    adata_control_2,\n",
    "    adata_Treatment_1,\n",
    "    adata_Treatment_2]):\n",
    "    hvgs = adata.var[\"highly_variable\"]\n",
    "\n",
    "    ax.scatter(\n",
    "        adata.var[\"mean_counts\"], adata.var[\"residual_variances\"], s=3, edgecolor=\"none\"\n",
    "    )\n",
    "    ax.scatter(\n",
    "        adata.var[\"mean_counts\"][hvgs],\n",
    "        adata.var[\"residual_variances\"][hvgs],\n",
    "        c=\"tab:red\",\n",
    "        label=\"selected genes\",\n",
    "        s=3,\n",
    "        edgecolor=\"none\",\n",
    "    )\n",
    "    ax.set_xscale(\"log\")\n",
    "    ax.set_xlabel(\"mean expression\")\n",
    "    ax.set_yscale(\"log\")\n",
    "    ax.set_ylabel(\"residual variance\")\n",
    "\n",
    "\n",
    "    ax.spines[\"right\"].set_visible(False)\n",
    "    ax.spines[\"top\"].set_visible(False)\n",
    "    ax.yaxis.set_ticks_position(\"left\")\n",
    "    ax.xaxis.set_ticks_position(\"bottom\")\n",
    "plt.legend()"
   ]
  },
  {
   "cell_type": "code",
   "execution_count": null,
   "id": "f31153f0-b28e-48cd-b525-ed5f439238e1",
   "metadata": {},
   "outputs": [],
   "source": [
    "#Apply selection!Skip!\n",
    "#adata_control_1 = adata_control_1[:, adata_control_1.var[\"highly_variable\"]]\n",
    "#adata_control_2 = adata_control_2[:, adata_control_2.var[\"highly_variable\"]]\n",
    "\n",
    "#adata_Treatment_1 = adata_Treatment_1[:, adata_Treatment_1.var[\"highly_variable\"]]\n",
    "#adata_Treatment_2 = adata_Treatment_2[:, adata_Treatment_2.var[\"highly_variable\"]]"
   ]
  },
  {
   "cell_type": "code",
   "execution_count": null,
   "id": "cf073773-1bd9-4829-ada4-20d10ee1a340",
   "metadata": {},
   "outputs": [],
   "source": [
    "adata_control_1"
   ]
  },
  {
   "cell_type": "markdown",
   "id": "ba999b25-746a-4e4f-a815-358be861e27d",
   "metadata": {},
   "source": [
    "Pre-normalization with Pearson Corr: https://github.com/scverse/scanpy-tutorials/blob/main/tutorial_pearson_residuals.ipynb"
   ]
  },
  {
   "cell_type": "code",
   "execution_count": null,
   "id": "0b2d9fff-f3eb-45f7-b00c-e85370736be7",
   "metadata": {},
   "outputs": [],
   "source": [
    "# keep raw and depth-normalized counts for later\n",
    "adata_control_1.layers[\"raw\"] = adata_control_1.X.copy()\n",
    "adata_control_1.layers[\"sqrt_norm\"] = np.sqrt(\n",
    "    sc.pp.normalize_total(adata_control_1, inplace=False)[\"X\"]\n",
    ")\n",
    "\n",
    "adata_control_2.layers[\"raw\"] = adata_control_2.X.copy()\n",
    "adata_control_2.layers[\"sqrt_norm\"] = np.sqrt(\n",
    "    sc.pp.normalize_total(adata_control_2, inplace=False)[\"X\"]\n",
    ")\n",
    "\n",
    "adata_Treatment_1.layers[\"raw\"] = adata_Treatment_1.X.copy()\n",
    "adata_Treatment_1.layers[\"sqrt_norm\"] = np.sqrt(\n",
    "    sc.pp.normalize_total(adata_Treatment_1, inplace=False)[\"X\"]\n",
    ")\n",
    "\n",
    "adata_Treatment_2.layers[\"raw\"] = adata_Treatment_2.X.copy()\n",
    "adata_Treatment_2.layers[\"sqrt_norm\"] = np.sqrt(\n",
    "    sc.pp.normalize_total(adata_Treatment_2, inplace=False)[\"X\"]\n",
    ")\n"
   ]
  },
  {
   "cell_type": "markdown",
   "id": "39dc99b6-6ab3-4bfe-b313-c9ab5f4caa62",
   "metadata": {},
   "source": [
    "From https://www.sc-best-practices.org/preprocessing_visualization/normalization.html use pearson_residuals as closest to SCT in seurat.\n",
    "Also from: https://github.com/scverse/scanpy-tutorials/blob/main/tutorial_pearson_residuals.ipynb "
   ]
  },
  {
   "cell_type": "code",
   "execution_count": null,
   "id": "f5a8e4ce-78d7-423d-8492-66b0388f8403",
   "metadata": {},
   "outputs": [],
   "source": [
    "#from scipy.sparse import csr_matrix, issparse\n",
    "for adata in [\n",
    "    adata_control_1,\n",
    "    adata_control_2,\n",
    "    adata_Treatment_1,\n",
    "    adata_Treatment_2\n",
    "]:\n",
    "    #sc.pp.normalize_total(adata, inplace=True)\n",
    "    sc.experimental.pp.normalize_pearson_residuals(adata, inplace=True)\n",
    "    #sc.pp.log1p(adata,) # Computes X=log(X+1) , where  denotes the natural logarithm unless a different base is given.\n",
    "    #sc.experimental.pp.highly_variable_genes(adata,flavor=\"pearson_residuals\", n_top_genes=2000, inplace=True)"
   ]
  },
  {
   "cell_type": "code",
   "execution_count": null,
   "id": "59aace28-da51-468d-83e0-fcb7313ca991",
   "metadata": {},
   "outputs": [],
   "source": [
    "adata_Treatment_2.layers[\"raw\"][1,1]"
   ]
  },
  {
   "cell_type": "markdown",
   "id": "c9d21448-7982-4b1a-af71-e0f6b9c11754",
   "metadata": {},
   "source": [
    "## Manifold embedding and clustering based on transcriptional similarity"
   ]
  },
  {
   "cell_type": "markdown",
   "id": "fc19c0db-7758-41cf-b2df-164fb022562c",
   "metadata": {},
   "source": [
    "Using Pearson coefficients: https://github.com/scverse/scanpy-tutorials/blob/main/tutorial_pearson_residuals.ipynb"
   ]
  },
  {
   "cell_type": "code",
   "execution_count": null,
   "id": "88cba6f4-a405-4c26-b616-6508ad98723b",
   "metadata": {},
   "outputs": [],
   "source": [
    "for adata in [\n",
    "    adata_control_1,\n",
    "    adata_control_2,\n",
    "    adata_Treatment_1,\n",
    "    adata_Treatment_2\n",
    "]:\n",
    "    sc.pp.pca(adata, n_comps=50)\n",
    "    sc.pp.neighbors(adata)\n",
    "    sc.tl.umap(adata, n_components=50)\n",
    "    sc.tl.leiden(adata, resolution=0.6, n_iterations=2, directed=False)\n"
   ]
  },
  {
   "cell_type": "code",
   "execution_count": null,
   "id": "e1a56c3d-eb89-4318-8527-8f03df859442",
   "metadata": {},
   "outputs": [],
   "source": [
    "sc.set_figure_params(vector_friendly=False, dpi_save=300) \n",
    "end=\"nodulesonly_UMAP.pdf\"\n",
    "for name, adata in [\n",
    "    (\"control_1\", adata_control_1),\n",
    "    (\"control_2\", adata_control_2),\n",
    "    (\"Treatment_1\", adata_Treatment_1),\n",
    "    (\"Treatment_2\", adata_Treatment_2),\n",
    "]:\n",
    "    sc.pl.umap(adata, color=[ \"leiden\"],title=name, wspace=0.4, save='%s_%s' % (name, end))\n",
    "plt.show()\n"
   ]
  },
  {
   "cell_type": "markdown",
   "id": "0cc57d0a-b67d-4ab7-bdab-0d8130e541e0",
   "metadata": {},
   "source": [
    "## Visualization in spatial coordinates"
   ]
  },
  {
   "cell_type": "code",
   "execution_count": null,
   "id": "e9c68fe3-cdc0-4c9a-9e9e-0f90586ede9e",
   "metadata": {},
   "outputs": [],
   "source": [
    "#plt.rcParams[\"figure.figsize\"] = (8, 8)\n",
    "#sc.pl.spatial(adata,  color=\"leiden_res0_5\") #save=\"Treatment_1_leidenres05.pdf\")\n",
    "\n",
    "sc.set_figure_params(vector_friendly=False, dpi_save=300) \n",
    "end=\"nodulesonly_spatial.pdf\"\n",
    "for name, adata in [\n",
    "    (\"control_1\", adata_control_1),\n",
    "    (\"control_2\", adata_control_2),\n",
    "    (\"Treatment_1\", adata_Treatment_1),\n",
    "    (\"Treatment_2\", adata_Treatment_2),\n",
    "]:\n",
    "    sc.pl.spatial(adata,  color=\"leiden\",title=name, wspace=0.4, size=1.5,save='%s_%s' % (name, end))\n",
    "    #sc.pl.umap(adata, color=[ \"leiden\"],title=name, wspace=0.4, save='%s_%s' % (name, end))\n",
    "plt.show()"
   ]
  },
  {
   "cell_type": "markdown",
   "id": "eeea7325-bb60-4f5a-9210-1f254922a6bf",
   "metadata": {},
   "source": [
    "## Cluster marker genes"
   ]
  },
  {
   "cell_type": "code",
   "execution_count": null,
   "id": "a44d5832-534a-4f51-829f-3db7a1434424",
   "metadata": {},
   "outputs": [],
   "source": [
    "#from scipy.sparse import csr_matrix, issparse\n",
    "for adata in [\n",
    "    adata_control_1,\n",
    "    adata_control_2,\n",
    "    adata_Treatment_1,\n",
    "    adata_Treatment_2\n",
    "]:\n",
    "    sc.pp.log1p(adata, layer=\"raw\") # Computes X=log(X+1) , where  denotes the natural logarithm unless a different base is given.\n",
    "    #sc.experimental.pp.highly_variable_genes(adata,flavor=\"pearson_residuals\", n_top_genes=2000, inplace=True)"
   ]
  },
  {
   "cell_type": "code",
   "execution_count": null,
   "id": "ac0748cd-7bc4-47d2-bf99-f69383ac5f4f",
   "metadata": {
    "editable": true,
    "slideshow": {
     "slide_type": ""
    },
    "tags": []
   },
   "outputs": [],
   "source": [
    "for adata in [\n",
    "    adata_control_1,\n",
    "    adata_control_2,\n",
    "    adata_Treatment_1,\n",
    "    adata_Treatment_2\n",
    "]:\n",
    "    sc.tl.rank_genes_groups(adata, layer=\"raw\",groupby=\"leiden\", method=\"wilcoxon\")"
   ]
  },
  {
   "cell_type": "code",
   "execution_count": null,
   "id": "90ab9423-a377-43ba-b288-5b9e56db7836",
   "metadata": {},
   "outputs": [],
   "source": [
    "for adata in [\n",
    "    adata_control_1,\n",
    "    adata_control_2,\n",
    "    adata_Treatment_1,\n",
    "    adata_Treatment_2\n",
    "]:\n",
    "    sc.tl.filter_rank_genes_groups(adata, min_in_group_fraction=0.25,\n",
    "    max_out_group_fraction=0.25)"
   ]
  },
  {
   "cell_type": "code",
   "execution_count": null,
   "id": "8e89bf30-5d2f-4fd7-8046-bb60006ecaf2",
   "metadata": {},
   "outputs": [],
   "source": [
    "adata_control_1.uns[\"rank_genes_groups_filtered\"]"
   ]
  },
  {
   "cell_type": "code",
   "execution_count": null,
   "id": "8e761cc0-1b2a-4e6e-b4ed-a250913ce8e7",
   "metadata": {},
   "outputs": [],
   "source": [
    "\n",
    "#sc.set_figure_params(vector_friendly=False, dpi_save=300) \n",
    "#end=\"DEGpercluster_dotplot.pdf\"\n",
    "for name, adata in [\n",
    "    (\"control_1\", adata_control_1),\n",
    "    (\"control_2\", adata_control_2),\n",
    "    (\"Treatment_1\", adata_Treatment_1),\n",
    "    (\"Treatment_2\", adata_Treatment_2),\n",
    "]:\n",
    "    sc.pl.rank_genes_groups_dotplot( adata, groupby=\"leiden\",show=True,n_genes=5)#,key=\"rank_genes_groups_filtered\", show=True,n_genes=5)#, save='%s_%s' % (name, end))\n",
    "\n"
   ]
  },
  {
   "cell_type": "code",
   "execution_count": null,
   "id": "40fff1e6-4ffd-4de4-878c-fa95768c1825",
   "metadata": {},
   "outputs": [],
   "source": [
    "adata_control_1"
   ]
  },
  {
   "cell_type": "code",
   "execution_count": null,
   "id": "d6ed1c31-557c-47a0-9bfd-09d4351de213",
   "metadata": {
    "editable": true,
    "slideshow": {
     "slide_type": ""
    },
    "tags": []
   },
   "outputs": [],
   "source": [
    "\n",
    "sc.pl.rank_genes_groups(adata_control_1)"
   ]
  },
  {
   "cell_type": "code",
   "execution_count": null,
   "id": "a969f35c-2a5f-481b-a983-d838d2acea16",
   "metadata": {},
   "outputs": [],
   "source": [
    "sc.pl.rank_genes_groups_dotplot( adata_control_2, groupby=\"leiden\",key='rank_genes_groups_filtered', standard_scale=\"var\",n_genes=5)"
   ]
  },
  {
   "cell_type": "code",
   "execution_count": null,
   "id": "75ee318c-cabe-4cb7-9d95-49f514e04e2b",
   "metadata": {},
   "outputs": [],
   "source": [
    "for name, adata in [\n",
    "    (\"control_1\", adata_control_1),\n",
    "    (\"control_2\", adata_control_2),\n",
    "    (\"Treatment_1\", adata_Treatment_1),\n",
    "    (\"Treatment_2\", adata_Treatment_2),\n",
    "]:\n",
    "    sc.pl.rank_genes_groups_dotplot( adata, groupby=\"leiden\",key='rank_genes_groups_filtered', standard_scale=\"var\",n_genes=5) #, save='%s_%s' % (name, end))"
   ]
  },
  {
   "cell_type": "code",
   "execution_count": null,
   "id": "baf3f508-c153-4c65-8680-5b8e05823201",
   "metadata": {},
   "outputs": [],
   "source": [
    "sc.pl.spatial(adata_control_1, img_key=\"hires\",use_raw=False, vmin=0,color=[\"Plin2\",\"mt-Co2\",\"Scp2\"],save=\"Examples_clusters_control_1.pdf\", size=1.5)"
   ]
  },
  {
   "cell_type": "code",
   "execution_count": null,
   "id": "a48ec112-8fe5-450f-bf02-8fb3926c249c",
   "metadata": {},
   "outputs": [],
   "source": [
    "sc.pl.spatial(adata_control_2, img_key=\"hires\",use_raw=False, color=[\"Gphn\",\"Cldn7\",\"Serpina1e\"],save=\"Examples_clusters_control_2.pdf\", size=1.5)"
   ]
  },
  {
   "cell_type": "code",
   "execution_count": null,
   "id": "0d951d64-97eb-4461-8ac1-52b8d7befcce",
   "metadata": {},
   "outputs": [],
   "source": [
    "sc.pl.spatial(adata_Treatment_2, img_key=\"hires\", color=[\"Spink1\",\"Ldha\",\"Anxa5\"], vmax=[12.5,7,10], vmin=0, size=1.5,save=\"Examples_clusters_Treatment_2.pdf\")"
   ]
  },
  {
   "cell_type": "code",
   "execution_count": null,
   "id": "71db1764-195b-4455-a746-a368b16bd656",
   "metadata": {},
   "outputs": [],
   "source": []
  },
  {
   "cell_type": "code",
   "execution_count": null,
   "id": "12df568a-ca12-4ac4-8f77-dd3a04f8a044",
   "metadata": {},
   "outputs": [],
   "source": [
    "sc.pl.spatial(adata_Treatment_1, img_key=\"hires\", color=[\"Isyna1\",\"Fau\",\"Cxcl10\"],vmin=0, vmax=[5,5,20],size=1.5,save=\"Examples_clusters_Treatment_1.pdf\")"
   ]
  },
  {
   "cell_type": "markdown",
   "id": "6df2a57c-3160-4b2a-863d-f54553619f9a",
   "metadata": {},
   "source": [
    "#### DEG per cluster: dataframes"
   ]
  },
  {
   "cell_type": "code",
   "execution_count": null,
   "id": "9dbd4508-4319-46e6-8e1f-e2ed1e2c0ea4",
   "metadata": {},
   "outputs": [],
   "source": [
    "#Function to extract DEG per cluster and return a df\n",
    "def degpercluster(degs,clusters_names):\n",
    "    degs_list=[] #Initialize list\n",
    "    for cluster in clusters_names: #Iterate over cluster names\n",
    "        degpercluster = degs.filter(like=cluster) #filter only columns for cluster\n",
    "        degs_up = degpercluster[(degpercluster.iloc[:,3] < 0.01) & (degpercluster.iloc[:,4] > 0)] #Filter by pvals_adj <0.05 and logFC> 0\n",
    "        #degs_dw = degpercluster[degpercluster.iloc[:,3] < 0.05 & degpercluster.iloc[:,4] < 0 ] \n",
    "        t=degs_up.iloc[:,0].values\n",
    "        degs_list.append(t)\n",
    "    return pd.DataFrame(degs_list).T\n",
    "\n"
   ]
  },
  {
   "cell_type": "code",
   "execution_count": null,
   "id": "11723bf7-e3e9-4dad-a33a-d6fdc74c8891",
   "metadata": {},
   "outputs": [],
   "source": [
    "# get deg result\n",
    "#---------------Control_1\n",
    "result_control_1 = adata_control_1.uns['rank_genes_groups']\n",
    "groups_control_1 = result_control_1['names'].dtype.names\n",
    "degs_control_1 = pd.DataFrame(\n",
    "    {group + '_' + key: result_control_1[key][group]\n",
    "    for group in groups_control_1 for key in ['names','scores', 'pvals','pvals_adj','logfoldchanges']})\n",
    "\n",
    "#---------------Control_2\n",
    "result_control_2 = adata_control_2.uns['rank_genes_groups']\n",
    "groups_control_2 = result_control_2['names'].dtype.names\n",
    "degs_control_2 = pd.DataFrame(\n",
    "    {group + '_' + key: result_control_2[key][group]\n",
    "    for group in groups_control_2 for key in ['names','scores', 'pvals','pvals_adj','logfoldchanges']})\n",
    "\n",
    "#---------------Treatment_1\n",
    "result_Treatment_1 = adata_Treatment_1.uns['rank_genes_groups']\n",
    "groups_Treatment_1 = result_Treatment_1['names'].dtype.names\n",
    "degs_Treatment_1 = pd.DataFrame(\n",
    "    {group + '_' + key: result_Treatment_1[key][group]\n",
    "    for group in groups_Treatment_1 for key in ['names','scores', 'pvals','pvals_adj','logfoldchanges']})\n",
    "\n",
    "#---------------Treatment_2\n",
    "result_Treatment_2 = adata_Treatment_2.uns['rank_genes_groups']\n",
    "groups_Treatment_2 = result_Treatment_2['names'].dtype.names\n",
    "degs_Treatment_2 = pd.DataFrame(\n",
    "    {group + '_' + key: result_Treatment_2[key][group]\n",
    "    for group in groups_Treatment_2 for key in ['names','scores', 'pvals','pvals_adj','logfoldchanges']})\n"
   ]
  },
  {
   "cell_type": "code",
   "execution_count": null,
   "id": "4d298a51-8c04-46a9-9c68-5e5eb98ab78a",
   "metadata": {},
   "outputs": [],
   "source": [
    "#Extract number of clusters\n",
    "#---------------Control_1\n",
    "col_names_control_1 =degs_control_1.columns.values.tolist()\n",
    "clusters_names_control_1 = list(set([i.split(\"_\")[0] for i in col_names_control_1 ]))\n",
    "clusters_names_control_1\n",
    "\n",
    "#---------------Control_2\n",
    "col_names_control_2 =degs_control_2.columns.values.tolist()\n",
    "clusters_names_control_2 = list(set([i.split(\"_\")[0] for i in col_names_control_2 ]))\n",
    "clusters_names_control_2\n",
    "\n",
    "#---------------Treatment_1\n",
    "col_names_Treatment_1 =degs_Treatment_1.columns.values.tolist()\n",
    "clusters_names_Treatment_1 = list(set([i.split(\"_\")[0] for i in col_names_Treatment_1 ]))\n",
    "clusters_names_Treatment_1\n",
    "\n",
    "#---------------Treatment_2\n",
    "col_names_Treatment_2 =degs_Treatment_2.columns.values.tolist()\n",
    "clusters_names_Treatment_2 = list(set([i.split(\"_\")[0] for i in col_names_Treatment_2 ]))\n"
   ]
  },
  {
   "cell_type": "code",
   "execution_count": null,
   "id": "b00e0230-cead-4103-9e1e-09acd17e8ccf",
   "metadata": {},
   "outputs": [],
   "source": [
    "#Extract DEG as df per clusters\n",
    "\n",
    "#---------------Control_1\n",
    "degs_control_1_DF=degpercluster(degs_control_1,clusters_names_control_1)\n",
    "degs_control_1_DF.columns = clusters_names_control_1\n",
    "degs_control_1_DF.head()\n",
    "\n",
    "#---------------Control_2\n",
    "degs_control_2_DF=degpercluster(degs_control_2,clusters_names_control_2)\n",
    "degs_control_2_DF.columns = clusters_names_control_2\n",
    "#degs_control_2_DF.head()\n",
    "\n",
    "#---------------Treatment_1\n",
    "degs_Treatment_1_DF=degpercluster(degs_Treatment_1,clusters_names_Treatment_1)\n",
    "degs_Treatment_1_DF.columns = clusters_names_Treatment_1\n",
    "#degs_Treatment_1_DF.head()\n",
    "\n",
    "#---------------Treatment_2\n",
    "degs_Treatment_2_DF=degpercluster(degs_Treatment_2,clusters_names_Treatment_2)\n",
    "degs_Treatment_2_DF.columns = clusters_names_Treatment_2\n",
    "degs_Treatment_2_DF.head()"
   ]
  },
  {
   "cell_type": "code",
   "execution_count": null,
   "id": "07014405-cc75-4c7d-b866-8a610996e254",
   "metadata": {},
   "outputs": [],
   "source": [
    "sc.pl.spatial(adata_control_1, img_key=\"hires\", color=[\"mt-Co2\"], size=1.5)"
   ]
  },
  {
   "cell_type": "code",
   "execution_count": null,
   "id": "fb09453b-9afa-4138-b444-18db52449fcf",
   "metadata": {},
   "outputs": [],
   "source": [
    "degs_control_1_DF"
   ]
  },
  {
   "cell_type": "code",
   "execution_count": null,
   "id": "e379636e-2e67-42af-9d32-efa8f5fc19b4",
   "metadata": {},
   "outputs": [],
   "source": [
    "#Write to excel\n",
    "\n",
    "with pd.ExcelWriter('onlynodules_DEGpercluster.xlsx') as writer:  \n",
    "    degs_control_1_DF.to_excel(writer, sheet_name='CTL1')\n",
    "    degs_control_2_DF.to_excel(writer, sheet_name='CTL2')\n",
    "    degs_Treatment_1_DF.to_excel(writer, sheet_name='Treatment_1')\n",
    "    degs_Treatment_2_DF.to_excel(writer, sheet_name='Treatment_2')\n",
    "\n",
    "#degs_control_1_DF.to_excel(\"DEGpercluster_CTL1.xlsx\",sheet_name='CTL1')\n",
    "#degs_control_2_DF.to_excel(\"DEGpercluster_CTL2.xlsx\",sheet_name='CTL2')\n",
    "\n",
    "\n",
    "#degs_Treatment_1_DF.to_excel(\"DEGpercluster_Treatment_1.xlsx\",sheet_name='Treatment_1')\n",
    "#degs_Treatment_2_DF.to_excel(\"DEGpercluster_Treatment_2.xlsx\",sheet_name='Treatment_2')"
   ]
  },
  {
   "cell_type": "markdown",
   "id": "cc798ef6-7d17-4080-8301-71e6b11c5174",
   "metadata": {},
   "source": [
    "#### Over-representation analysis (Enrichr API)"
   ]
  },
  {
   "cell_type": "code",
   "execution_count": null,
   "id": "baba285b-bf41-4fa2-ba05-02eb46d44a53",
   "metadata": {},
   "outputs": [],
   "source": [
    "import gseapy as gp\n",
    "gene_sets=\"./DEG_MarkersClusters_ZoominSenescentres01_onlyXLhep_PENDING5CLUST.gmt\","
   ]
  },
  {
   "cell_type": "code",
   "execution_count": null,
   "id": "f4454a92-3752-47b2-930c-2d453be09a58",
   "metadata": {},
   "outputs": [],
   "source": [
    "degs_control_1"
   ]
  },
  {
   "cell_type": "code",
   "execution_count": null,
   "id": "4055e56a-a8e5-417d-853f-166b59a876e6",
   "metadata": {},
   "outputs": [],
   "source": [
    "# subset up or down regulated genes\n",
    "degs_sig = degs[degs[\"1_pvals_adj\"] < 0.05]\n",
    "degs_up = degs_sig[degs[\"1_logfoldchanges\"] > 0]\n",
    "degs_dw = degs_sig[degs[\"1_logfoldchanges\"] < 0]"
   ]
  },
  {
   "cell_type": "code",
   "execution_count": null,
   "id": "f106a576-0300-43d2-b95f-c156ac30f295",
   "metadata": {},
   "outputs": [],
   "source": [
    "degs_sig.shape"
   ]
  },
  {
   "cell_type": "code",
   "execution_count": null,
   "id": "8c35e17c-a1dd-4a73-b976-009540e5783b",
   "metadata": {},
   "outputs": [],
   "source": [
    "# Enricr API\n",
    "enr_up = gp.enrichr(degs_up[\"0_names\"],\n",
    "                    gene_sets='GO_Biological_Process_2021',\n",
    "                   organism='mouse', # don't forget to set organism to the one you desired! e.g. Yeast\n",
    "                 outdir=None) # don't write to disk)\n",
    "enr2 = gp.enrich(gene_list=\"./tests/data/gene_list.txt\", # or gene_list=glist\n",
    "                 gene_sets=[\"./tests/data/genes.gmt\", \"unknown\", kegg ], # kegg is a dict object\n",
    "                 background=None, # or \"hsapiens_gene_ensembl\", or int, or text file, or a list of genes\n",
    "                 outdir=None,\n",
    "                 verbose=True)"
   ]
  },
  {
   "cell_type": "code",
   "execution_count": null,
   "id": "6087fd10-f648-4452-b275-2cb5401b11b2",
   "metadata": {},
   "outputs": [],
   "source": [
    "# trim (go:...)\n",
    "enr_up.res2d.Term = enr_up.res2d.Term.str.split(\" \\(GO\").str[0]\n",
    "enr_dw.res2d.Term = enr_dw.res2d.Term.str.split(\" \\(GO\").str[0]"
   ]
  },
  {
   "cell_type": "code",
   "execution_count": null,
   "id": "cc1f17a4-c136-42ba-8feb-611f4c7e4a02",
   "metadata": {},
   "outputs": [],
   "source": [
    "# concat results\n",
    "enr_up.res2d['UP_DW'] = \"UP\"\n",
    "enr_dw.res2d['UP_DW'] = \"DOWN\"\n",
    "enr_res = pd.concat([enr_up.res2d.head(), enr_dw.res2d.head()])"
   ]
  },
  {
   "cell_type": "code",
   "execution_count": null,
   "id": "44c42606-9f3e-4afa-aaaf-798e68012122",
   "metadata": {},
   "outputs": [],
   "source": [
    "ax = gp.barplot(enr_res, figsize=(3,5),\n",
    "                group ='UP_DW',\n",
    "                title =\"GO_BP\",\n",
    "                color = ['b','r'])"
   ]
  },
  {
   "cell_type": "code",
   "execution_count": null,
   "id": "20d90636-85f6-4a54-b8a8-438283ea0d10",
   "metadata": {},
   "outputs": [],
   "source": [
    "#sc.pl.spatial(adata_Treatment_1, img_key=\"hires\", color=[\"Cdkn2a\",\"Cdkn1a\"], save=\"Treatment_1_Cdknexp.pdf\")"
   ]
  },
  {
   "cell_type": "code",
   "execution_count": null,
   "id": "b9aa0193-d889-4082-96ae-057efe1590be",
   "metadata": {},
   "outputs": [],
   "source": [
    "enr2 = gp.enrich(gene_list=\"./tests/data/gene_list.txt\", # or gene_list=glist\n",
    "                 gene_sets=[\"./tests/data/genes.gmt\", \"unknown\", kegg ], # kegg is a dict object\n",
    "                 background=None, # or \"hsapiens_gene_ensembl\", or int, or text file, or a list of genes\n",
    "                 outdir=None,\n",
    "                 verbose=True)"
   ]
  },
  {
   "cell_type": "markdown",
   "id": "742ac1a7-fd98-40fc-b5f6-f935f7cb73db",
   "metadata": {},
   "source": [
    "### Pathway enrichment from Treatment-human-signatures"
   ]
  },
  {
   "cell_type": "code",
   "execution_count": null,
   "id": "2ee93502-9169-4768-82d5-3f9f1870a681",
   "metadata": {},
   "outputs": [],
   "source": [
    "#read signature from excel file\n",
    "#Human Treatment signature\n",
    "Treatmentsig = pd.read_excel('DEG_TreatmentvsVec_p53mut.xlsx',sheet_name=0) \n",
    "Treatmentsigsymbols = Treatmentsig.Symbols[Treatmentsig.logFC >0].tolist()"
   ]
  },
  {
   "cell_type": "code",
   "execution_count": null,
   "id": "bb67c750-0fa7-4479-af82-5f7c4d1334df",
   "metadata": {},
   "outputs": [],
   "source": [
    "#Convert human to mouse symbols https://gseapy.readthedocs.io/en/master/gseapy_example.html\n",
    "from gseapy import Biomart\n",
    "bm = Biomart()\n",
    "# note the dataset and attribute names are different\n",
    "\n",
    "h2m = bm.query(dataset='hsapiens_gene_ensembl',\n",
    "               attributes=['ensembl_gene_id','external_gene_name',\n",
    "                           'mmusculus_homolog_ensembl_gene',\n",
    "                           'mmusculus_homolog_associated_gene_name'])"
   ]
  },
  {
   "cell_type": "code",
   "execution_count": null,
   "id": "b06b761e-a517-44ce-8a66-ec8a37d4c268",
   "metadata": {},
   "outputs": [],
   "source": [
    "h2m.head()"
   ]
  },
  {
   "cell_type": "code",
   "execution_count": null,
   "id": "eca0d9c5-9414-4a73-98a4-bbb3e7425d0f",
   "metadata": {},
   "outputs": [],
   "source": [
    "#Treatmentsigsymbolsmouse = h2m.mmusculus_homolog_associated_gene_name[h2m['external_gene_name'].isin(Treatmentsigsymbols)].tolist()\n",
    "Treatmentsigsymbolsmousefiltered = h2m.mmusculus_homolog_associated_gene_name[(h2m['external_gene_name'].isin(Treatmentsigsymbols)) & (~h2m['mmusculus_homolog_associated_gene_name'].isnull())]\n",
    "len(Treatmentsigsymbolsmousefiltered)"
   ]
  },
  {
   "cell_type": "code",
   "execution_count": null,
   "id": "be8cb93b-4ca1-45f0-8106-4a62cde4afbf",
   "metadata": {},
   "outputs": [],
   "source": [
    "Treatmentsigdf = pd.DataFrame({\"geneset\" :'Treatmentsignature',\n",
    "              \"genesymbol\" : Treatmentsigsymbolsmousefiltered})\n",
    "Treatmentsigdf"
   ]
  },
  {
   "cell_type": "markdown",
   "id": "4702230a-5b51-4a02-8783-6b63cac0abc1",
   "metadata": {},
   "source": [
    "### Pathway enrichment from scRNAseq senescent -signatures"
   ]
  },
  {
   "cell_type": "code",
   "execution_count": null,
   "id": "f6558cc5-9a16-42cc-85ed-8a4f0da5d173",
   "metadata": {
    "editable": true,
    "slideshow": {
     "slide_type": ""
    },
    "tags": []
   },
   "outputs": [],
   "source": [
    "#scRNAseq senescent clusters \n",
    "#TAKE ONLY TOP 2000 genes\n",
    "scRNAseq_UP_SenClust = pd.read_excel(\"Lesscells_wilcox_DEG_MarkersClusters_ZoominSenescentres04_onlyXLhep_NOTstringent_FDR01_minpct01_mindiffpct01_logfc01.xlsx\",sheet_name=0, nrows=2000) \n",
    "#Treatmentsigsymbols = Treatmentsig.Symbols[Treatmentsig.logFC >0].tolist()\n",
    "scRNAseq_UP_SenClustdf = scRNAseq_UP_SenClust.melt()\n",
    "scRNAseq_UP_SenClustdf_filtered =scRNAseq_UP_SenClustdf.dropna()\n",
    "scRNAseq_UP_SenClustdf_filtered = scRNAseq_UP_SenClustdf_filtered.rename(columns={'variable': 'geneset', 'value': 'genesymbol'}) #Change the name of columns\n",
    "scRNAseq_UP_SenClustdf_filtered[scRNAseq_UP_SenClustdf_filtered.geneset==\"c7\"]"
   ]
  },
  {
   "cell_type": "markdown",
   "id": "6674e1a1-8a93-4634-bd8a-ed1f07032196",
   "metadata": {},
   "source": [
    "### Pathway enrichment from HALLMARKS-HYPOXIA"
   ]
  },
  {
   "cell_type": "code",
   "execution_count": null,
   "id": "e993f3f1-63dc-4f9d-911e-9fc755d205a0",
   "metadata": {},
   "outputs": [],
   "source": [
    "from pathlib import Path\n",
    "def gmt_to_decoupler(pth: Path) -> pd.DataFrame:\n",
    "    \"\"\"\n",
    "    Parse a gmt file to a decoupler pathway dataframe.\n",
    "    \"\"\"\n",
    "    from itertools import chain, repeat\n",
    "\n",
    "    pathways = {}\n",
    "\n",
    "    with Path(pth).open(\"r\") as f:\n",
    "        for line in f:\n",
    "            name, _, *genes = line.strip().split(\"\\t\")\n",
    "            pathways[name] = genes\n",
    "\n",
    "    return pd.DataFrame.from_records(\n",
    "        chain.from_iterable(zip(repeat(k), v) for k, v in pathways.items()),\n",
    "        columns=[\"geneset\", \"genesymbol\"],\n",
    "    )"
   ]
  },
  {
   "cell_type": "code",
   "execution_count": null,
   "id": "7fd8f524-9b7a-4eb7-ba0f-653f3a3e91aa",
   "metadata": {},
   "outputs": [],
   "source": [
    "HALLMARK_HYPOXIA = gmt_to_decoupler(\"HALLMARK_HYPOXIA.v2023.2.Mm.gmt\")\n",
    "HALLMARK_HYPOXIA\n",
    "GOBP_CELLRESPHYPOXIA = gmt_to_decoupler(\"GOBP_CELLULAR_RESPONSE_TO_HYPOXIA.v2023.2.Mm.gmt\")\n",
    "GOBP_CELLRESPHYPOXIA"
   ]
  },
  {
   "cell_type": "markdown",
   "id": "d70256ea-eb69-499d-87ba-e59123a93d39",
   "metadata": {},
   "source": [
    "#### Concatenate signatures"
   ]
  },
  {
   "cell_type": "code",
   "execution_count": null,
   "id": "0178ba54-12a9-4947-b4ad-676295c23f10",
   "metadata": {},
   "outputs": [],
   "source": [
    "#Concatenate Treatmenthumansig with scRNAseq clusters\n",
    "signatures = pd.concat([Treatmentsigdf, scRNAseq_UP_SenClustdf_filtered,HALLMARK_HYPOXIA,GOBP_CELLRESPHYPOXIA])\n",
    "signatures[signatures.geneset==\"c0\"]"
   ]
  },
  {
   "cell_type": "code",
   "execution_count": null,
   "id": "cc50f4a3-81fc-48cf-88d1-6b7ab8a992bb",
   "metadata": {},
   "outputs": [],
   "source": [
    "import decoupler #14678+14731+13797+14731\n",
    "#Run enrichment using two methods: AUCell or overrepresentation\n",
    "#Results will be saved in obsm under aucell_estimate and  'ora_estimate', 'ora_pvals'\n",
    "for adata in [\n",
    "    adata_control_1,\n",
    "    adata_control_2,\n",
    "    adata_Treatment_1,\n",
    "    adata_Treatment_2\n",
    "]:\n",
    "    decoupler.run_ora(adata,signatures,source=\"geneset\",min_n=3,n_background= 14484,target=\"genesymbol\",use_raw=False)\n",
    "    decoupler.run_aucell(adata,signatures,source=\"geneset\",min_n=3,target=\"genesymbol\",use_raw=False)\n",
    "    #decoupler.run_consensus(adata,Treatmentsigdf,source=\"geneset\",target=\"genesymbol\",use_raw=False)"
   ]
  },
  {
   "cell_type": "markdown",
   "id": "3a918d2c-419b-4632-acdf-08ab960b7499",
   "metadata": {},
   "source": [
    "##### Over-representation"
   ]
  },
  {
   "cell_type": "code",
   "execution_count": null,
   "id": "9cc10b60-0c50-44e4-a3ab-a17cc6605b7b",
   "metadata": {
    "scrolled": true
   },
   "outputs": [],
   "source": [
    "signatures_colnames = list(adata_Treatment_1.obsm[\"ora_pvals\"])\n",
    "#Copy results under obs\n",
    "#For now only overrep results\n",
    "\n",
    "adata_control_1.obs[signatures_colnames] = adata_control_1.obsm[\"ora_pvals\"][signatures_colnames]\n",
    "adata_control_2.obs[signatures_colnames] = adata_control_2.obsm[\"ora_pvals\"][signatures_colnames]\n",
    "\n",
    "\n",
    "adata_Treatment_1.obs[signatures_colnames] = adata_Treatment_1.obsm[\"ora_pvals\"][signatures_colnames]\n",
    "adata_Treatment_2.obs[signatures_colnames] = adata_Treatment_2.obsm[\"ora_pvals\"][signatures_colnames]\n"
   ]
  },
  {
   "cell_type": "code",
   "execution_count": null,
   "id": "6b1740fc-424a-4de3-a1fc-043e05d3ee06",
   "metadata": {},
   "outputs": [],
   "source": [
    "\n",
    "#adata_Treatment_1.obs['ora_estimate'] = adata_Treatment_1.obsm['ora_estimate']\n",
    "#adata_Treatment_1.obs['ora_pvals'] = adata_Treatment_1.obsm['ora_pvals']\n",
    "#adata_Treatment_1.obs['aucell_estimate'] = adata_Treatment_1.obsm['aucell_estimate']\n",
    "\n",
    "#adata_Treatment_2.obs['ora_estimate'] = adata_Treatment_2.obsm['ora_estimate']\n",
    "#adata_Treatment_2.obs['ora_pvals'] = adata_Treatment_2.obsm['ora_pvals']\n",
    "#adata_Treatment_2.obs['aucell_estimate'] = adata_Treatment_2.obsm['aucell_estimate']"
   ]
  },
  {
   "cell_type": "code",
   "execution_count": null,
   "id": "80508e97-4e48-421f-83b5-3084fca6c4e2",
   "metadata": {},
   "outputs": [],
   "source": [
    "#pvals adjusted and transformation function\n",
    "def adj_minuslog10 (pval):\n",
    "    adj_transformed = np.log10(sci.stats.false_discovery_control(pval))*-1\n",
    "    return(adj_transformed)\n"
   ]
  },
  {
   "cell_type": "code",
   "execution_count": null,
   "id": "d5193d64-e6cb-4ec5-bc48-ebbe4db0d811",
   "metadata": {},
   "outputs": [],
   "source": [
    "#pvals adjusted\n",
    "\n",
    "t =adata_control_1.obs[signatures_colnames].apply(lambda x: adj_minuslog10(x), axis=0).add_prefix('adj_hh_log10_')\n",
    "t_colnames = list(t)\n",
    "adata_control_1.obs[t_colnames]=t\n",
    "\n",
    "t =adata_control_2.obs[signatures_colnames].apply(lambda x: adj_minuslog10(x),  axis=0).add_prefix('adj_hh_log10_')\n",
    "t_colnames = list(t)\n",
    "adata_control_2.obs[t_colnames]=t\n",
    "\n",
    "t =adata_Treatment_1.obs[signatures_colnames].apply(lambda x: adj_minuslog10(x), axis=0).add_prefix('adj_hh_log10_')\n",
    "t_colnames = list(t)\n",
    "adata_Treatment_1.obs[t_colnames]=t\n",
    "\n",
    "t =adata_Treatment_2.obs[signatures_colnames].apply(lambda x: adj_minuslog10(x),  axis=0).add_prefix('adj_hh_log10_')\n",
    "t_colnames = list(t)\n",
    "adata_Treatment_2.obs[t_colnames]=t\n"
   ]
  },
  {
   "cell_type": "code",
   "execution_count": null,
   "id": "1b93978b-22dd-4e8d-aaec-6ec3bcf25ff3",
   "metadata": {},
   "outputs": [],
   "source": [
    "list(adata_Treatment_1.obs)"
   ]
  },
  {
   "cell_type": "code",
   "execution_count": null,
   "id": "3782c417-6fd5-4e5e-bc70-60b32af83ebb",
   "metadata": {},
   "outputs": [],
   "source": [
    "sc.pl.spatial(adata_control_1, color=[\"adj_hh_log10_HALLMARK_HYPOXIA\",\"adj_hh_log10_c0\",\"adj_hh_log10_c1\", \"adj_hh_log10_c2\",\"adj_hh_log10_c3\",\"adj_hh_log10_c4\",\"adj_hh_log10_c5\",\"adj_hh_log10_c6\",\"adj_hh_log10_c7\"],  vmax=2, vmin=1.3, cmap='mako',size=1.5, save=\"nodulesonly_Control_1_EnrichmentHYPOXIA_lesscellsscRNAseqSEN8clusters_ORApvaladj.pdf\")"
   ]
  },
  {
   "cell_type": "code",
   "execution_count": null,
   "id": "9ee7d869-38c8-41e3-b16c-c0bad675789d",
   "metadata": {},
   "outputs": [],
   "source": [
    "sc.pl.spatial(adata_control_2, color=[\"adj_hh_log10_HALLMARK_HYPOXIA\",\"adj_hh_log10_c0\",\"adj_hh_log10_c1\", \"adj_hh_log10_c2\",\"adj_hh_log10_c3\",\"adj_hh_log10_c4\",\"adj_hh_log10_c5\",\"adj_hh_log10_c6\",\"adj_hh_log10_c7\"],  vmax=2, vmin=1.3, cmap='mako',size=1.5, save=\"nodulesonly_Control_2_EnrichmentHYPOXIA_lesscellsscRNAseqSEN8clusters_ORApvaladj.pdf\")"
   ]
  },
  {
   "cell_type": "code",
   "execution_count": null,
   "id": "bde74c9d-c009-44ff-b379-b9c1a4d64b46",
   "metadata": {},
   "outputs": [],
   "source": [
    "sc.pl.spatial(adata_Treatment_1, color=[\"adj_hh_log10_HALLMARK_HYPOXIA\",\"adj_hh_log10_c0\",\"adj_hh_log10_c1\", \"adj_hh_log10_c2\",\"adj_hh_log10_c3\",\"adj_hh_log10_c4\",\"adj_hh_log10_c5\",\"adj_hh_log10_c6\",\"adj_hh_log10_c7\"],  vmin=1.3,  cmap='magma',size=1.5, save=\"nodulesonly_Treatment_1_EnrichmentHYPOXIA_lesscellsscRNAseqSEN8clusters_ORApvaladj.pdf\")"
   ]
  },
  {
   "cell_type": "code",
   "execution_count": null,
   "id": "444b0d60-c3bc-4d1f-af24-10d751e33c4c",
   "metadata": {},
   "outputs": [],
   "source": [
    "sc.pl.spatial(adata_Treatment_2, color=[\"adj_hh_log10_HALLMARK_HYPOXIA\",\"adj_hh_log10_c0\",\"adj_hh_log10_c1\", \"adj_hh_log10_c2\",\"adj_hh_log10_c3\",\"adj_hh_log10_c4\",\"adj_hh_log10_c5\",\"adj_hh_log10_c6\",\"adj_hh_log10_c7\"],  vmin=1.3,  cmap='magma',size=1.5, save=\"nodulesonly_Treatment_2_EnrichmentHYPOXIA_lesscellsscRNAseqSEN8clusters_ORApvaladj.pdf\")\n"
   ]
  },
  {
   "cell_type": "code",
   "execution_count": null,
   "id": "6ddb21da-84a1-41ad-b867-5918e5ab4cb7",
   "metadata": {},
   "outputs": [],
   "source": [
    "sc.pl.spatial(adata_Treatment_1, color=[\"adj_hh_log10_HALLMARK_HYPOXIA\"], vmin=1.3,vmax=2,  cmap='magma',size=1.5, save=\"Treatment_1_EnrichmentHYPOXIA_ORApvaladj.pdf\")"
   ]
  },
  {
   "cell_type": "markdown",
   "id": "03afb413-7b9b-4870-8dc7-185a452ad37b",
   "metadata": {},
   "source": [
    "##### AUCcell"
   ]
  },
  {
   "cell_type": "code",
   "execution_count": null,
   "id": "cf59eb8a-3a86-4980-a7a5-be55f5729e3c",
   "metadata": {},
   "outputs": [],
   "source": [
    "signatures_colnames = list(adata_Treatment_1.obsm[\"aucell_estimate\"])\n",
    "\n",
    "#Copy results under obs\n",
    "#For now only overrep results\n",
    "\n",
    "adata_control_1.obs[signatures_colnames] = adata_control_1.obsm[\"aucell_estimate\"][signatures_colnames]\n",
    "adata_control_2.obs[signatures_colnames] = adata_control_2.obsm[\"aucell_estimate\"][signatures_colnames]\n",
    "\n",
    "\n",
    "adata_Treatment_1.obs[signatures_colnames] = adata_Treatment_1.obsm[\"aucell_estimate\"][signatures_colnames]\n",
    "adata_Treatment_2.obs[signatures_colnames] = adata_Treatment_2.obsm[\"aucell_estimate\"][signatures_colnames]\n"
   ]
  },
  {
   "cell_type": "code",
   "execution_count": null,
   "id": "d0bf5297-10ea-42f8-84a8-8dc617dd6d11",
   "metadata": {},
   "outputs": [],
   "source": [
    "list(adata_Treatment_1.obs)"
   ]
  },
  {
   "cell_type": "code",
   "execution_count": null,
   "id": "13b226db-3d5c-4f2e-b24f-afd4eec1b6f1",
   "metadata": {},
   "outputs": [],
   "source": [
    "sc.pl.spatial(adata_control_1, color=[\"Treatmentsignature\",\"HALLMARK_HYPOXIA\",\"GOBP_CELLULAR_RESPONSE_TO_HYPOXIA\"],  cmap='mako',size=1.5, save=\"nodulesonly_Control_1_EnrichmentTreatmentsigandHYPOXIA_AUCells.pdf\")"
   ]
  },
  {
   "cell_type": "code",
   "execution_count": null,
   "id": "f58f64d0-b9ea-4802-915c-b9c7837e1536",
   "metadata": {},
   "outputs": [],
   "source": [
    "sc.pl.spatial(adata_control_2, color=[\"Treatmentsignature\",\"HALLMARK_HYPOXIA\",\"GOBP_CELLULAR_RESPONSE_TO_HYPOXIA\"],  cmap='mako',size=1.5, save=\"nodulesonly_Control_2_EnrichmentTreatmentsigandHYPOXIA_AUCells.pdf\")"
   ]
  },
  {
   "cell_type": "code",
   "execution_count": null,
   "id": "b791e057-e1a0-4b9c-905b-a539bf619a60",
   "metadata": {},
   "outputs": [],
   "source": [
    "sc.pl.spatial(adata_Treatment_1, color=[\"HALLMARK_HYPOXIA\",\"GOBP_CELLULAR_RESPONSE_TO_HYPOXIA\",\"c0\", \"c2\",\"c3\",\"c4\",\"c5\"],  cmap='magma',size=1.5, save=\"nodulesonly_Treatment_1_EnrichmentHYPOXIA_scRNAseqSENclusters_AUCell.pdf\")"
   ]
  },
  {
   "cell_type": "code",
   "execution_count": null,
   "id": "3f18e934-3f89-437e-ab5f-0a4fa4ef5b81",
   "metadata": {},
   "outputs": [],
   "source": [
    "sc.pl.spatial(adata_Treatment_2, color=[\"HALLMARK_HYPOXIA\",\"GOBP_CELLULAR_RESPONSE_TO_HYPOXIA\",\"c0\", \"c2\",\"c3\",\"c4\",\"c5\"],  cmap='magma',size=1.5, save=\"nodulesonly_Treatment_2_EnrichmentHYPOXIA_scRNAseqSENclusters_AUCell.pdf\")"
   ]
  },
  {
   "cell_type": "code",
   "execution_count": null,
   "id": "e7cbefb9-15e2-45bf-ac62-ca620876b15f",
   "metadata": {},
   "outputs": [],
   "source": [
    "#Pending: uses GO or KEGG\n",
    "#sc.queries.enrich(container=Treatmentsigsymbolsmousefiltered, adata=adata_control_1,groups=\"0\", org=\"mmusculus\")"
   ]
  },
  {
   "cell_type": "code",
   "execution_count": null,
   "id": "a491d5e3-d05e-42af-92f1-c6b7ebd3a61a",
   "metadata": {},
   "outputs": [],
   "source": [
    "#Convert Human gene symbols to Mouse. https://gseapy.readthedocs.io/en/master/gseapy_example.html\n",
    "# get a dict symbol mappings\n",
    "#h2m_dict = {}\n",
    "#for i, row in h2m.loc[:,[\"external_gene_name\", \"mmusculus_homolog_associated_gene_name\"]].iterrows():\n",
    "#    if row.isna().any(): continue\n",
    "#    h2m_dict[row['external_gene_name']] = row[\"mmusculus_homolog_associated_gene_name\"]\n",
    "# read gmt file into dict\n",
    "#kegg = gp.read_gmt(path=\"tests/extdata/enrichr.KEGG_2016.gmt\")\n",
    "#print(kegg['MAPK signaling pathway Homo sapiens hsa04010'][:10])"
   ]
  },
  {
   "cell_type": "code",
   "execution_count": null,
   "id": "a4a2208e-9f57-4114-a76f-d89a1a55e11e",
   "metadata": {},
   "outputs": [],
   "source": [
    "#kegg_mouse = {}\n",
    "#for term, genes in kegg.items():\n",
    "#    new_genes = []\n",
    "#    for gene in genes:\n",
    "#        if gene in h2m_dict:\n",
    "#            new_genes.append(h2m_dict[gene])\n",
    "#    kegg_mouse[term] = new_genes\n",
    "#print(kegg_mouse['MAPK signaling pathway Homo sapiens hsa04010'][:10])"
   ]
  },
  {
   "cell_type": "markdown",
   "id": "f32e733c-c944-4a9b-980d-5c869a6e88e5",
   "metadata": {},
   "source": [
    "### Pathway enrichment"
   ]
  },
  {
   "cell_type": "code",
   "execution_count": null,
   "id": "1382057f-cd99-4e0a-8460-f0ca31b81db8",
   "metadata": {},
   "outputs": [],
   "source": [
    "#From: https://www.sc-best-practices.org/conditions/gsea_pathway.html?highlight=sc%20queries%20enrich#\n",
    "# Downloading reactome pathways\n",
    "from pathlib import Path\n",
    "\n",
    "#if not Path(\"c2.cp.reactome.v7.5.1.symbols.gmt\").is_file():\n",
    "#    !wget -O 'c2.cp.reactome.v7.5.1.symbols.gmt' https://figshare.com/ndownloader/files/35233771"
   ]
  },
  {
   "cell_type": "code",
   "execution_count": null,
   "id": "0f36b31e-0dc0-4998-8ed8-cfa14538b541",
   "metadata": {},
   "outputs": [],
   "source": [
    "def gmt_to_decoupler(pth: Path) -> pd.DataFrame:\n",
    "    \"\"\"\n",
    "    Parse a gmt file to a decoupler pathway dataframe.\n",
    "    \"\"\"\n",
    "    from itertools import chain, repeat\n",
    "\n",
    "    pathways = {}\n",
    "\n",
    "    with Path(pth).open(\"r\") as f:\n",
    "        for line in f:\n",
    "            name, _, *genes = line.strip().split(\"\\t\")\n",
    "            pathways[name] = genes\n",
    "\n",
    "    return pd.DataFrame.from_records(\n",
    "        chain.from_iterable(zip(repeat(k), v) for k, v in pathways.items()),\n",
    "        columns=[\"geneset\", \"genesymbol\"],\n",
    "    )"
   ]
  },
  {
   "cell_type": "code",
   "execution_count": null,
   "id": "ceafa1b6-12e6-45ee-9871-efd87d30bd49",
   "metadata": {},
   "outputs": [],
   "source": [
    "HALLMARK_HYPOXIA = gmt_to_decoupler(\"HALLMARK_HYPOXIA.v2023.2.Mm.gmt\")\n",
    "HALLMARK_HYPOXIA"
   ]
  },
  {
   "cell_type": "code",
   "execution_count": null,
   "id": "1e49df40-0aa4-46c3-97f2-eb62a00f195e",
   "metadata": {},
   "outputs": [],
   "source": [
    "#Run enrichment using two methods: AUCell or overrepresentation\n",
    "#Results will be saved in obsm under aucell_estimate and  'ora_estimate', 'ora_pvals'\n",
    "for adata in [\n",
    "    adata_control_1,\n",
    "    adata_control_2,\n",
    "    adata_Treatment_1,\n",
    "    adata_Treatment_2\n",
    "]:\n",
    "    decoupler.run_ora(adata,Treatmentsigdf,source=\"geneset\",n_background= 15000,target=\"genesymbol\",use_raw=False)\n",
    "    decoupler.run_aucell(adata,Treatmentsigdf,source=\"geneset\",target=\"genesymbol\",use_raw=False)\n",
    "    #decoupler.run_consensus(adata,Treatmentsigdf,source=\"geneset\",target=\"genesymbol\",use_raw=False)"
   ]
  },
  {
   "cell_type": "code",
   "execution_count": null,
   "id": "d581e489-b265-4531-a390-962d01b75dbf",
   "metadata": {},
   "outputs": [],
   "source": []
  },
  {
   "cell_type": "code",
   "execution_count": null,
   "id": "ea997379-784b-4e5b-b963-6b1773058285",
   "metadata": {},
   "outputs": [],
   "source": [
    "sc.pl.spatial(adata_Treatment_2, img_key=\"hires\", color=[\"n_genes_by_counts\",\"total_counts\"], save=\"Treatment_2_n_genes_by_countsandtotal_counts.pdf\")"
   ]
  },
  {
   "cell_type": "code",
   "execution_count": null,
   "id": "a2260d77-b142-4023-83cd-47eb7589b1d2",
   "metadata": {},
   "outputs": [],
   "source": [
    "sc.pl.spatial(adata_Treatment_2, img_key=\"hires\", color=[\"n_genes_by_counts\",\"total_counts\"], save=\"Treatment_2_n_genes_by_countsandtotal_counts.pdf\")"
   ]
  },
  {
   "cell_type": "markdown",
   "id": "a9bdcfb5-a5ce-40ee-b8e6-2b2702134556",
   "metadata": {},
   "source": [
    "# Squidpy"
   ]
  },
  {
   "cell_type": "code",
   "execution_count": null,
   "id": "ae7b1344-83bb-49fd-8de2-5f42bce15cac",
   "metadata": {},
   "outputs": [],
   "source": [
    "import squidpy as sq"
   ]
  },
  {
   "cell_type": "code",
   "execution_count": null,
   "id": "7dceb8c0-5b7b-40f7-a3e7-7ed605ef385d",
   "metadata": {},
   "outputs": [],
   "source": [
    "sq.pl.spatial_scatter(adata_control_1, color=\"leiden\")\n",
    "img.show(channelwise=True)"
   ]
  }
 ],
 "metadata": {
  "kernelspec": {
   "display_name": "Python 3 (ipykernel)",
   "language": "python",
   "name": "python3"
  },
  "language_info": {
   "codemirror_mode": {
    "name": "ipython",
    "version": 3
   },
   "file_extension": ".py",
   "mimetype": "text/x-python",
   "name": "python",
   "nbconvert_exporter": "python",
   "pygments_lexer": "ipython3",
   "version": "3.12.2"
  }
 },
 "nbformat": 4,
 "nbformat_minor": 5
}
